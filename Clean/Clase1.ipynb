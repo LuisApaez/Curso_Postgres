{
    "metadata": {
        "kernelspec": {
            "name": "SQL",
            "display_name": "SQL",
            "language": "sql"
        },
        "language_info": {
            "name": "sql",
            "version": ""
        }
    },
    "nbformat_minor": 2,
    "nbformat": 4,
    "cells": [
        {
            "cell_type": "markdown",
            "source": [
                "\\# Curso de Cleaning Data con SQL server\n",
                "\n",
                "  \n",
                "\n",
                "\\*\\*Autor: Luis Fernando Apáez\\*\\*\n",
                "\n",
                "  \n",
                "\n",
                "La limpieza de datos es importante pues ésta prepara los datos para su correcto análisis. De hecho, los analistas y científicos de datos dedican la mayor parte de su tiempo a la limpieza, versus el tiempo dedicado propiamente al análisis.\n",
                "\n",
                "  \n",
                "\n",
                "Los datos que estaremos ocupando se referentes a los vuelos mensuales de aerolíneas en aeropuertos de EU entre el 2014 y 2015."
            ],
            "metadata": {
                "azdata_cell_guid": "0895d37d-eba1-4186-b052-857af69a46c7"
            }
        },
        {
            "cell_type": "code",
            "source": [
                "SELECT TOP 5 * FROM prueba.dbo.flight_statistics;"
            ],
            "metadata": {
                "azdata_cell_guid": "58d785da-9f23-4e5a-9dff-b8c18064ef31"
            },
            "outputs": [
                {
                    "output_type": "display_data",
                    "data": {
                        "text/html": "(5 rows affected)"
                    },
                    "metadata": {}
                },
                {
                    "output_type": "display_data",
                    "data": {
                        "text/html": "Total execution time: 00:00:00.458"
                    },
                    "metadata": {}
                },
                {
                    "output_type": "execute_result",
                    "metadata": {},
                    "execution_count": 4,
                    "data": {
                        "application/vnd.dataresource+json": {
                            "schema": {
                                "fields": [
                                    {
                                        "name": "registration_code"
                                    },
                                    {
                                        "name": "airport_code"
                                    },
                                    {
                                        "name": "carrier_code"
                                    },
                                    {
                                        "name": "canceled"
                                    },
                                    {
                                        "name": "on_time"
                                    },
                                    {
                                        "name": "delayed"
                                    },
                                    {
                                        "name": "diverted"
                                    },
                                    {
                                        "name": "statistician_name"
                                    },
                                    {
                                        "name": "statistician_surname"
                                    },
                                    {
                                        "name": "registration_date"
                                    }
                                ]
                            },
                            "data": [
                                {
                                    "0": "000000119",
                                    "1": "JFK",
                                    "2": "AA",
                                    "3": "74",
                                    "4": "819",
                                    "5": "233",
                                    "6": "13",
                                    "7": "Miriam",
                                    "8": "Smith",
                                    "9": "2014-01-31"
                                },
                                {
                                    "0": "120",
                                    "1": "JFK",
                                    "2": "B6",
                                    "3": "438",
                                    "4": "1865",
                                    "5": "1010",
                                    "6": "29",
                                    "7": "Myriam",
                                    "8": "Smith",
                                    "9": "2014-01-31"
                                },
                                {
                                    "0": "000000121",
                                    "1": "JFK",
                                    "2": "HA",
                                    "3": "NULL",
                                    "4": "NULL",
                                    "5": "NULL",
                                    "6": "NULL",
                                    "7": "Mirian",
                                    "8": "Smyht",
                                    "9": "2014-01-31"
                                },
                                {
                                    "0": "122",
                                    "1": "JFK",
                                    "2": "MQ",
                                    "3": "NULL",
                                    "4": "NULL",
                                    "5": "NULL",
                                    "6": "NULL",
                                    "7": "Miriam",
                                    "8": "Smyth",
                                    "9": "2014-01-31"
                                },
                                {
                                    "0": "123",
                                    "1": "JFK",
                                    "2": "EV",
                                    "3": "NULL",
                                    "4": "NULL",
                                    "5": "NULL",
                                    "6": "NULL",
                                    "7": "Astrid",
                                    "8": "Harper",
                                    "9": "2014-01-31"
                                }
                            ]
                        },
                        "text/html": [
                            "<table>",
                            "<tr><th>registration_code</th><th>airport_code</th><th>carrier_code</th><th>canceled</th><th>on_time</th><th>delayed</th><th>diverted</th><th>statistician_name</th><th>statistician_surname</th><th>registration_date</th></tr>",
                            "<tr><td>000000119</td><td>JFK</td><td>AA</td><td>74</td><td>819</td><td>233</td><td>13</td><td>Miriam</td><td>Smith</td><td>2014-01-31</td></tr>",
                            "<tr><td>120</td><td>JFK</td><td>B6</td><td>438</td><td>1865</td><td>1010</td><td>29</td><td>Myriam</td><td>Smith</td><td>2014-01-31</td></tr>",
                            "<tr><td>000000121</td><td>JFK</td><td>HA</td><td>NULL</td><td>NULL</td><td>NULL</td><td>NULL</td><td>Mirian</td><td>Smyht</td><td>2014-01-31</td></tr>",
                            "<tr><td>122</td><td>JFK</td><td>MQ</td><td>NULL</td><td>NULL</td><td>NULL</td><td>NULL</td><td>Miriam</td><td>Smyth</td><td>2014-01-31</td></tr>",
                            "<tr><td>123</td><td>JFK</td><td>EV</td><td>NULL</td><td>NULL</td><td>NULL</td><td>NULL</td><td>Astrid</td><td>Harper</td><td>2014-01-31</td></tr>",
                            "</table>"
                        ]
                    }
                }
            ],
            "execution_count": 4
        }
    ]
}
{
    "metadata": {
        "kernelspec": {
            "name": "SQL",
            "display_name": "SQL",
            "language": "sql"
        },
        "language_info": {
            "name": "sql",
            "version": ""
        }
    },
    "nbformat_minor": 2,
    "nbformat": 4,
    "cells": [
        {
            "cell_type": "markdown",
            "source": [
                "# Curso de Cleaning Data con SQL server\n",
                "\n",
                "**Autor: Luis Fernando Apáez**\n",
                "\n",
                "- [Comparing the similarity between strings](#parte1)\n",
                "    \n",
                "    - [Función SOUNDEX()](#parte2)\n",
                "    - [Función DIFFERENCE()](#parte3)\n",
                "\n",
                "* * *\n",
                "\n",
                "## Comparing the similarity between strings <a id=\"parte1\"></a>"
            ],
            "metadata": {
                "azdata_cell_guid": "b235825b-140d-4548-86cb-00ba825385f7"
            }
        },
        {
            "cell_type": "markdown",
            "source": [
                "En esta clase compararemos la similitud entre cadenas, y para ello utilizaremos las funciones ``SOUNDEX()`` Y ``DIFFERENCE()``.\r\n",
                "\r\n",
                "Por ejemplo, consierando la tabla ``prueba.dbo.airport`` podemos observar que"
            ],
            "metadata": {
                "azdata_cell_guid": "7a73bf60-5173-4132-a51e-8f311f319a12"
            }
        },
        {
            "cell_type": "code",
            "source": [
                "SELECT * FROM prueba.dbo.airports WHERE airport_state LIKE 'Il%';"
            ],
            "metadata": {
                "azdata_cell_guid": "3abcb2bf-9d72-4c39-b803-65c026774408"
            },
            "outputs": [
                {
                    "output_type": "display_data",
                    "data": {
                        "text/html": "(2 rows affected)"
                    },
                    "metadata": {}
                },
                {
                    "output_type": "display_data",
                    "data": {
                        "text/html": "Total execution time: 00:00:00.415"
                    },
                    "metadata": {}
                },
                {
                    "output_type": "execute_result",
                    "execution_count": 4,
                    "data": {
                        "application/vnd.dataresource+json": {
                            "schema": {
                                "fields": [
                                    {
                                        "name": "airport_code"
                                    },
                                    {
                                        "name": "airport_name"
                                    },
                                    {
                                        "name": "airport_city"
                                    },
                                    {
                                        "name": "airport_state"
                                    }
                                ]
                            },
                            "data": [
                                {
                                    "0": "ORD",
                                    "1": "    Chicago O'Hare International",
                                    "2": "ch",
                                    "3": "Illinois"
                                },
                                {
                                    "0": "MDW",
                                    "1": "    Chicago Midway International",
                                    "2": "Chicago",
                                    "3": "Ilynois"
                                }
                            ]
                        },
                        "text/html": "<table><tr><th>airport_code</th><th>airport_name</th><th>airport_city</th><th>airport_state</th></tr><tr><td>ORD</td><td>    Chicago O'Hare International</td><td>ch</td><td>Illinois</td></tr><tr><td>MDW</td><td>    Chicago Midway International</td><td>Chicago</td><td>Ilynois</td></tr></table>"
                    },
                    "metadata": {}
                }
            ],
            "execution_count": 4
        },
        {
            "cell_type": "markdown",
            "source": [
                "en la columna ``airport_state`` tenemos dos nombres muy similares para el estado de _Illinois_, siendo incorrecto escribir _Ilynois_ lo cual seguramente proviene de un error de dedo al ingresar los datos. Con las funciones que mencionamos al inicio, ``SQL server`` proporciona ayuda para detectar estas cadenas.\r\n",
                "\r\n",
                "### Función ``SOUNDEX()`` <a id=\"parte2\"></a>"
            ],
            "metadata": {
                "azdata_cell_guid": "e6b8edef-e8ae-4ce7-84f3-602cf35ce11d"
            }
        },
        {
            "cell_type": "markdown",
            "source": [
                "Esta función corresponde a un algorítmo fonético el cual devuelve un código de 4 caracteres y evalúa la similitud entre cadenas según su pronunciación. Por ejemplo, consideremos"
            ],
            "metadata": {
                "azdata_cell_guid": "03f8409e-acb8-4634-bd71-6fb7786138fb"
            }
        },
        {
            "cell_type": "code",
            "source": [
                "SELECT SOUNDEX('Illinois') AS soundex_code\r\n",
                "UNION ALL\r\n",
                "SELECT SOUNDEX('Ilynois') \r\n",
                "UNION ALL\r\n",
                "SELECT SOUNDEX('California') "
            ],
            "metadata": {
                "azdata_cell_guid": "cc6d5cd0-4315-4c03-ac13-93ea2372fc57"
            },
            "outputs": [
                {
                    "output_type": "display_data",
                    "data": {
                        "text/html": "(3 rows affected)"
                    },
                    "metadata": {}
                },
                {
                    "output_type": "display_data",
                    "data": {
                        "text/html": "Total execution time: 00:00:00.101"
                    },
                    "metadata": {}
                },
                {
                    "output_type": "execute_result",
                    "execution_count": 12,
                    "data": {
                        "application/vnd.dataresource+json": {
                            "schema": {
                                "fields": [
                                    {
                                        "name": "soundex_code"
                                    }
                                ]
                            },
                            "data": [
                                {
                                    "0": "I452"
                                },
                                {
                                    "0": "I452"
                                },
                                {
                                    "0": "C416"
                                }
                            ]
                        },
                        "text/html": "<table><tr><th>soundex_code</th></tr><tr><td>I452</td></tr><tr><td>I452</td></tr><tr><td>C416</td></tr></table>"
                    },
                    "metadata": {}
                }
            ],
            "execution_count": 12
        },
        {
            "cell_type": "markdown",
            "source": [
                "de donde el código _soundex_ para las palabras _Illinois_ e _Ilynois_ es el mismo, mientras que el código _soundex_ para la palabra _California_ es distinto. Que las primeras dos cadenas hayan obtenido el mismo código _soundex_ indica que éstas son muy similares (bajo este algorítmo). Cabe resaltar que siempre debemos corroborar los resultados que nos arroje _soundex_, pues a pesar de ser muy útil no siempre arroja la similitud entre dos cadenas. Por ejemplo, las palabras _Arizona_ y _Arkansas_ tienen el mismo código _soundex_ a pesar de no ser similares"
            ],
            "metadata": {
                "azdata_cell_guid": "60d18880-d781-430e-b299-20f891191243"
            }
        },
        {
            "cell_type": "code",
            "source": [
                "SELECT SOUNDEX('Arizona') AS soundex_code\r\n",
                "UNION ALL\r\n",
                "SELECT SOUNDEX('Arkansas')"
            ],
            "metadata": {
                "azdata_cell_guid": "7c1c2aaf-e163-4eba-a0e9-12f201044800"
            },
            "outputs": [
                {
                    "output_type": "display_data",
                    "data": {
                        "text/html": "(2 rows affected)"
                    },
                    "metadata": {}
                },
                {
                    "output_type": "display_data",
                    "data": {
                        "text/html": "Total execution time: 00:00:00.109"
                    },
                    "metadata": {}
                },
                {
                    "output_type": "execute_result",
                    "execution_count": 13,
                    "data": {
                        "application/vnd.dataresource+json": {
                            "schema": {
                                "fields": [
                                    {
                                        "name": "soundex_code"
                                    }
                                ]
                            },
                            "data": [
                                {
                                    "0": "A625"
                                },
                                {
                                    "0": "A625"
                                }
                            ]
                        },
                        "text/html": "<table><tr><th>soundex_code</th></tr><tr><td>A625</td></tr><tr><td>A625</td></tr></table>"
                    },
                    "metadata": {}
                }
            ],
            "execution_count": 13
        },
        {
            "cell_type": "markdown",
            "source": [
                "Luego, podemos escribir el siguiente código el cual muestra todos los valores de la columna ``airport_state`` que tienen el mismo código _soundex_ pero que están escritos de manera diferente (como en el caso de _Arizona_ y _Arkansas_):"
            ],
            "metadata": {
                "azdata_cell_guid": "2885f214-7c10-48e0-a34b-cf1391379b58"
            }
        },
        {
            "cell_type": "code",
            "source": [
                "SELECT DISTINCT A1.airport_state \n",
                "FROM prueba.dbo.airports AS A1\n",
                "INNER JOIN prueba.dbo.airports AS A2\n",
                "ON SOUNDEX(A1.airport_state) = SOUNDEX(A2.airport_state)\n",
                "AND A1.airport_state <> A2.airport_state;"
            ],
            "metadata": {
                "azdata_cell_guid": "acb1f76f-f10d-4874-9d69-cdd870771ad2"
            },
            "outputs": [
                {
                    "output_type": "display_data",
                    "data": {
                        "text/html": "(9 rows affected)"
                    },
                    "metadata": {}
                },
                {
                    "output_type": "display_data",
                    "data": {
                        "text/html": "Total execution time: 00:00:00.862"
                    },
                    "metadata": {}
                },
                {
                    "output_type": "execute_result",
                    "metadata": {},
                    "execution_count": 1,
                    "data": {
                        "application/vnd.dataresource+json": {
                            "schema": {
                                "fields": [
                                    {
                                        "name": "airport_state"
                                    }
                                ]
                            },
                            "data": [
                                {
                                    "0": "Caalifornia"
                                },
                                {
                                    "0": "California"
                                },
                                {
                                    "0": "Californiaa"
                                },
                                {
                                    "0": "Illinois"
                                },
                                {
                                    "0": "Ilynois"
                                },
                                {
                                    "0": "New Jersey"
                                },
                                {
                                    "0": "New York"
                                },
                                {
                                    "0": "Tejas"
                                },
                                {
                                    "0": "Texas"
                                }
                            ]
                        },
                        "text/html": [
                            "<table>",
                            "<tr><th>airport_state</th></tr>",
                            "<tr><td>Caalifornia</td></tr>",
                            "<tr><td>California</td></tr>",
                            "<tr><td>Californiaa</td></tr>",
                            "<tr><td>Illinois</td></tr>",
                            "<tr><td>Ilynois</td></tr>",
                            "<tr><td>New Jersey</td></tr>",
                            "<tr><td>New York</td></tr>",
                            "<tr><td>Tejas</td></tr>",
                            "<tr><td>Texas</td></tr>",
                            "</table>"
                        ]
                    }
                }
            ],
            "execution_count": 1
        },
        {
            "cell_type": "markdown",
            "source": [
                "lo cual nos arroja en las primeras filas las distintas formas en que se ingresó la cadena _California_, después las distintas formas en que se ingreso la cadena _Illinois_, en las últimas dos filas las distintas formas en que se ingresó la cadena _Texas_. Notamos un problema en las filas 6 y 7 pues _soundex_ arroja que las palabras _New York_ y _New Jersey_ son similares. Este problema no es como el caso de las cadenas _Arizona_ y _Arkansas_, pues en realidad _soundex_ está comparando sólo la cadena hasta antes del espacio en blanco, es decir, se está comparando la cadena _New_ con _New_ en vez de _New York_ y _New Jersey_. Para resolver este problema podemos utilizar la función ``REPLACE()`` para omitir los espacios en blanco entre palabras:   "
            ],
            "metadata": {
                "azdata_cell_guid": "0bd470ba-5f07-4b60-975e-22c288d7a70e"
            }
        },
        {
            "cell_type": "code",
            "source": [
                "SELECT DISTINCT A1.airport_state \r\n",
                "FROM prueba.dbo.airports AS A1\r\n",
                "INNER JOIN prueba.dbo.airports AS A2\r\n",
                "ON SOUNDEX(REPLACE(A1.airport_state, ' ', '')) = SOUNDEX(REPLACE(A2.airport_state, ' ', ''))\r\n",
                "AND A1.airport_state <> A2.airport_state;"
            ],
            "metadata": {
                "azdata_cell_guid": "6e6afec7-52ed-444f-a54c-fd847f9f6c49"
            },
            "outputs": [
                {
                    "output_type": "display_data",
                    "data": {
                        "text/html": "(7 rows affected)"
                    },
                    "metadata": {}
                },
                {
                    "output_type": "display_data",
                    "data": {
                        "text/html": "Total execution time: 00:00:00.424"
                    },
                    "metadata": {}
                },
                {
                    "output_type": "execute_result",
                    "metadata": {},
                    "execution_count": 2,
                    "data": {
                        "application/vnd.dataresource+json": {
                            "schema": {
                                "fields": [
                                    {
                                        "name": "airport_state"
                                    }
                                ]
                            },
                            "data": [
                                {
                                    "0": "Caalifornia"
                                },
                                {
                                    "0": "California"
                                },
                                {
                                    "0": "Californiaa"
                                },
                                {
                                    "0": "Illinois"
                                },
                                {
                                    "0": "Ilynois"
                                },
                                {
                                    "0": "Tejas"
                                },
                                {
                                    "0": "Texas"
                                }
                            ]
                        },
                        "text/html": [
                            "<table>",
                            "<tr><th>airport_state</th></tr>",
                            "<tr><td>Caalifornia</td></tr>",
                            "<tr><td>California</td></tr>",
                            "<tr><td>Californiaa</td></tr>",
                            "<tr><td>Illinois</td></tr>",
                            "<tr><td>Ilynois</td></tr>",
                            "<tr><td>Tejas</td></tr>",
                            "<tr><td>Texas</td></tr>",
                            "</table>"
                        ]
                    }
                }
            ],
            "execution_count": 2
        },
        {
            "cell_type": "markdown",
            "source": [
                "con lo cual vemos que el código anterior ya sólo nos arroja aquellas cadenas que son similares, pues ahora _soundex_ no encontró coincidencias entre _New York_ y _New Jersey_.\r\n",
                "\r\n",
                "### Función ``DIFFERENCE()`` <a id=\"parte3\"></a>"
            ],
            "metadata": {
                "azdata_cell_guid": "1281d82c-2522-4b47-ad20-c815d4c4e6e9"
            }
        },
        {
            "cell_type": "markdown",
            "source": [
                "Esta función compara dos valores _soundex_ y devuelve un número entero entre el 0 y el 4, donde el número 0 indica poca o nula similitud y el número 4 indica una coincidencia muy similar o idéntica. La sintaxis básica de la función ``DIFFERENCE()`` es\r\n",
                "\r\n",
                "```sql\r\n",
                "DIFFERENCE(character_expression1, character_expression2)\r\n",
                "```\r\n",
                "\r\n",
                "Ahora, por ejemplo veamos que"
            ],
            "metadata": {
                "azdata_cell_guid": "09be0465-9068-46bb-a6a5-b6b813bac370"
            }
        },
        {
            "cell_type": "code",
            "source": [
                "SELECT DIFFERENCE('Illinois', 'Ilynois') AS dif;"
            ],
            "metadata": {
                "azdata_cell_guid": "17426f39-488c-48d2-9d2c-d5709131a086"
            },
            "outputs": [
                {
                    "output_type": "display_data",
                    "data": {
                        "text/html": "(1 row affected)"
                    },
                    "metadata": {}
                },
                {
                    "output_type": "display_data",
                    "data": {
                        "text/html": "Total execution time: 00:00:00.173"
                    },
                    "metadata": {}
                },
                {
                    "output_type": "execute_result",
                    "metadata": {},
                    "execution_count": 3,
                    "data": {
                        "application/vnd.dataresource+json": {
                            "schema": {
                                "fields": [
                                    {
                                        "name": "dif"
                                    }
                                ]
                            },
                            "data": [
                                {
                                    "0": "4"
                                }
                            ]
                        },
                        "text/html": [
                            "<table>",
                            "<tr><th>dif</th></tr>",
                            "<tr><td>4</td></tr>",
                            "</table>"
                        ]
                    }
                }
            ],
            "execution_count": 3
        },
        {
            "cell_type": "markdown",
            "source": [
                "lo cual nos estaría indicando que las cadenas _Illinois_ e _Ilynois_ son muy similares. De forma análoga a como lo hicimos en el ejemplo del código usando _sundex_, podemos verificar similitudes entre estados (``airport_state``) que tienen una diferencia igual a 4 (es decir que son muy similares) pero que están escritos de manera diferente "
            ],
            "metadata": {
                "azdata_cell_guid": "7b24c5b9-1708-435c-b723-353eed52cf07"
            }
        },
        {
            "cell_type": "code",
            "source": [
                "SELECT DISTINCT A1.airport_state \r\n",
                "FROM prueba.dbo.airports AS A1\r\n",
                "INNER JOIN prueba.dbo.airports AS A2\r\n",
                "ON DIFFERENCE(REPLACE(A1.airport_state, ' ', ''), REPLACE(A2.airport_state, ' ', '')) = 4\r\n",
                "AND A1.airport_state <> A2.airport_state;"
            ],
            "metadata": {
                "azdata_cell_guid": "03fefaa6-2b83-4cd2-943e-3583cdc24808"
            },
            "outputs": [
                {
                    "output_type": "display_data",
                    "data": {
                        "text/html": "(8 rows affected)"
                    },
                    "metadata": {}
                },
                {
                    "output_type": "display_data",
                    "data": {
                        "text/html": "Total execution time: 00:00:02.522"
                    },
                    "metadata": {}
                },
                {
                    "output_type": "execute_result",
                    "metadata": {},
                    "execution_count": 8,
                    "data": {
                        "application/vnd.dataresource+json": {
                            "schema": {
                                "fields": [
                                    {
                                        "name": "airport_state"
                                    }
                                ]
                            },
                            "data": [
                                {
                                    "0": "Caalifornia"
                                },
                                {
                                    "0": "California"
                                },
                                {
                                    "0": "Californiaa"
                                },
                                {
                                    "0": "Illinois"
                                },
                                {
                                    "0": "Ilynois"
                                },
                                {
                                    "0": "Massachusetts"
                                },
                                {
                                    "0": "Tejas"
                                },
                                {
                                    "0": "Texas"
                                }
                            ]
                        },
                        "text/html": [
                            "<table>",
                            "<tr><th>airport_state</th></tr>",
                            "<tr><td>Caalifornia</td></tr>",
                            "<tr><td>California</td></tr>",
                            "<tr><td>Californiaa</td></tr>",
                            "<tr><td>Illinois</td></tr>",
                            "<tr><td>Ilynois</td></tr>",
                            "<tr><td>Massachusetts</td></tr>",
                            "<tr><td>Tejas</td></tr>",
                            "<tr><td>Texas</td></tr>",
                            "</table>"
                        ]
                    }
                }
            ],
            "execution_count": 8
        },
        {
            "cell_type": "markdown",
            "source": [
                "De nuevo, así como con la función _soundex_, es preciso revisar los resultados obtenidos, dado que la función _difference_ puede llegar a tener discrepancias, como es el caso de la cadena _Massachusetts_."
            ],
            "metadata": {
                "azdata_cell_guid": "f6441dfe-531a-4445-842a-a78524c8ceab"
            }
        }
    ]
}
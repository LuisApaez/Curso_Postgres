{
    "metadata": {
        "kernelspec": {
            "name": "SQL",
            "display_name": "SQL",
            "language": "sql"
        },
        "language_info": {
            "name": "sql",
            "version": ""
        }
    },
    "nbformat_minor": 2,
    "nbformat": 4,
    "cells": [
        {
            "cell_type": "markdown",
            "source": [
                "# Curso de Cleaning Data con SQL server\r\n",
                "\r\n",
                "**Autor: Luis Fernando Apáez**\r\n",
                "\r\n",
                "* [Cleaning messy data](#parte1)\r\n",
                "\r\n",
                "    * [función ``REPLACE``](#parte2)\r\n",
                "---\r\n",
                "\r\n",
                "## Cleaning messy strings <a id=\"parte1\"></a>\r\n",
                "\r\n",
                "En esta clase trabajaremos con cadenas de texto que no tienen el formato que queremos.\r\n",
                "\r\n",
                "Veamos por ejemplo, la siguiente tabla:"
            ],
            "metadata": {
                "azdata_cell_guid": "90acad2a-dc7a-4611-8cfe-4ab8a93b9dbc"
            }
        },
        {
            "cell_type": "code",
            "source": [
                "SELECT * FROM prueba.dbo.carriers;"
            ],
            "metadata": {
                "azdata_cell_guid": "b6e9752a-b075-4e9c-b92f-8eeead1a9eea"
            },
            "outputs": [
                {
                    "output_type": "display_data",
                    "data": {
                        "text/html": "(16 rows affected)"
                    },
                    "metadata": {}
                },
                {
                    "output_type": "display_data",
                    "data": {
                        "text/html": "Total execution time: 00:00:01.533"
                    },
                    "metadata": {}
                },
                {
                    "output_type": "execute_result",
                    "execution_count": 1,
                    "data": {
                        "application/vnd.dataresource+json": {
                            "schema": {
                                "fields": [
                                    {
                                        "name": "code"
                                    },
                                    {
                                        "name": "name"
                                    }
                                ]
                            },
                            "data": [
                                {
                                    "0": "YV                                                                                                  ",
                                    "1": "Mesa Airlines Inc.                                                                                  "
                                },
                                {
                                    "0": "AA                                                                                                  ",
                                    "1": "   American Airlines Inc .                                                                          "
                                },
                                {
                                    "0": "B6                                                                                                  ",
                                    "1": "   JetBlue Airways                                                                                  "
                                },
                                {
                                    "0": "DL                                                                                                  ",
                                    "1": "   Delta Air Lines Inc.                                                                             "
                                },
                                {
                                    "0": "HA                                                                                                  ",
                                    "1": "   Hawaiian Airlines Inc.                                                                           "
                                },
                                {
                                    "0": "MQ                                                                                                  ",
                                    "1": "   American Eagle Airlines Inc.                                                                     "
                                },
                                {
                                    "0": "EV                                                                                                  ",
                                    "1": " ExpressJet Airlines Inc.                                                                           "
                                },
                                {
                                    "0": "UA                                                                                                  ",
                                    "1": " United Air Lines Inc.                                                                              "
                                },
                                {
                                    "0": "US                                                                                                  ",
                                    "1": " US Airways Inc.                                                                                    "
                                },
                                {
                                    "0": "VX                                                                                                  ",
                                    "1": " Virgin America                                                                                     "
                                },
                                {
                                    "0": "FL                                                                                                  ",
                                    "1": "AirTran Airways Corporation                                                                         "
                                },
                                {
                                    "0": "OO                                                                                                  ",
                                    "1": "SkyWest Airlines Inc.                                                                               "
                                },
                                {
                                    "0": "F9                                                                                                  ",
                                    "1": "Frontier Airlines Inc.                                                                              "
                                },
                                {
                                    "0": "WN                                                                                                  ",
                                    "1": "Southwest Airlines Co.                                                                              "
                                },
                                {
                                    "0": "AS                                                                                                  ",
                                    "1": "Alaska Airlines Inc.                                                                                "
                                },
                                {
                                    "0": "NK                                                                                                  ",
                                    "1": "Spirit Air Lines                                                                                    "
                                }
                            ]
                        },
                        "text/html": "<table><tr><th>code</th><th>name</th></tr><tr><td>YV                                                                                                  </td><td>Mesa Airlines Inc.                                                                                  </td></tr><tr><td>AA                                                                                                  </td><td>   American Airlines Inc .                                                                          </td></tr><tr><td>B6                                                                                                  </td><td>   JetBlue Airways                                                                                  </td></tr><tr><td>DL                                                                                                  </td><td>   Delta Air Lines Inc.                                                                             </td></tr><tr><td>HA                                                                                                  </td><td>   Hawaiian Airlines Inc.                                                                           </td></tr><tr><td>MQ                                                                                                  </td><td>   American Eagle Airlines Inc.                                                                     </td></tr><tr><td>EV                                                                                                  </td><td> ExpressJet Airlines Inc.                                                                           </td></tr><tr><td>UA                                                                                                  </td><td> United Air Lines Inc.                                                                              </td></tr><tr><td>US                                                                                                  </td><td> US Airways Inc.                                                                                    </td></tr><tr><td>VX                                                                                                  </td><td> Virgin America                                                                                     </td></tr><tr><td>FL                                                                                                  </td><td>AirTran Airways Corporation                                                                         </td></tr><tr><td>OO                                                                                                  </td><td>SkyWest Airlines Inc.                                                                               </td></tr><tr><td>F9                                                                                                  </td><td>Frontier Airlines Inc.                                                                              </td></tr><tr><td>WN                                                                                                  </td><td>Southwest Airlines Co.                                                                              </td></tr><tr><td>AS                                                                                                  </td><td>Alaska Airlines Inc.                                                                                </td></tr><tr><td>NK                                                                                                  </td><td>Spirit Air Lines                                                                                    </td></tr></table>"
                    },
                    "metadata": {}
                }
            ],
            "execution_count": 1
        },
        {
            "cell_type": "markdown",
            "source": [
                "observamos en la columna ``name`` que algunos nombres tienen espacios en blanco al inicio y al final, así como más de un espacio en blanco al inicio del nombre.\r\n",
                "\r\n",
                "Procedemos a eliminar estos espacios en blanco valiéndonos de la función ``TRIM()``:\r\n",
                "\r\n",
                "```sql\r\n",
                "TRIM([characters] string)\r\n",
                "```\r\n",
                "\r\n",
                "el cual elimina cualquier carácter especificado de una cadena de texto, lo cual es justo lo que buscamos. Si no especificamos un carácter, la función eliminará por default elcarácter correspondiente a espacios en blanco.\r\n",
                "\r\n",
                "Por ejemplo"
            ],
            "metadata": {
                "azdata_cell_guid": "b741483d-39ed-460c-8c9f-dc41fb335837"
            }
        },
        {
            "cell_type": "code",
            "source": [
                "SELECT TRIM('  Jetblue Airways  ');"
            ],
            "metadata": {
                "azdata_cell_guid": "1652d022-3255-4c73-9b36-7d32668f47b2"
            },
            "outputs": [
                {
                    "output_type": "display_data",
                    "data": {
                        "text/html": "(1 row affected)"
                    },
                    "metadata": {}
                },
                {
                    "output_type": "display_data",
                    "data": {
                        "text/html": "Total execution time: 00:00:00.060"
                    },
                    "metadata": {}
                },
                {
                    "output_type": "execute_result",
                    "execution_count": 2,
                    "data": {
                        "application/vnd.dataresource+json": {
                            "schema": {
                                "fields": [
                                    {
                                        "name": "(No column name)"
                                    }
                                ]
                            },
                            "data": [
                                {
                                    "0": "Jetblue Airways"
                                }
                            ]
                        },
                        "text/html": "<table><tr><th>(No column name)</th></tr><tr><td>Jetblue Airways</td></tr></table>"
                    },
                    "metadata": {}
                }
            ],
            "execution_count": 2
        },
        {
            "cell_type": "markdown",
            "source": [
                "notamos que los espacios en blanco del inicio y el final se han eliminado. De tal forma, si deseamos que todos los nombres de la columna ``name`` estén sin espacios en blanco al inicio y al final, ejecutamos"
            ],
            "metadata": {
                "azdata_cell_guid": "0e24494c-2439-4f19-8389-02d2303607d6"
            }
        },
        {
            "cell_type": "code",
            "source": [
                "SELECT code, TRIM(name) AS name FROM prueba.dbo.carriers;"
            ],
            "metadata": {
                "azdata_cell_guid": "0d8b0d0e-9b10-4aab-8806-c133380b34ec"
            },
            "outputs": [
                {
                    "output_type": "display_data",
                    "data": {
                        "text/html": "(16 rows affected)"
                    },
                    "metadata": {}
                },
                {
                    "output_type": "display_data",
                    "data": {
                        "text/html": "Total execution time: 00:00:00.348"
                    },
                    "metadata": {}
                },
                {
                    "output_type": "execute_result",
                    "execution_count": 3,
                    "data": {
                        "application/vnd.dataresource+json": {
                            "schema": {
                                "fields": [
                                    {
                                        "name": "code"
                                    },
                                    {
                                        "name": "name"
                                    }
                                ]
                            },
                            "data": [
                                {
                                    "0": "YV                                                                                                  ",
                                    "1": "Mesa Airlines Inc."
                                },
                                {
                                    "0": "AA                                                                                                  ",
                                    "1": "American Airlines Inc ."
                                },
                                {
                                    "0": "B6                                                                                                  ",
                                    "1": "JetBlue Airways"
                                },
                                {
                                    "0": "DL                                                                                                  ",
                                    "1": "Delta Air Lines Inc."
                                },
                                {
                                    "0": "HA                                                                                                  ",
                                    "1": "Hawaiian Airlines Inc."
                                },
                                {
                                    "0": "MQ                                                                                                  ",
                                    "1": "American Eagle Airlines Inc."
                                },
                                {
                                    "0": "EV                                                                                                  ",
                                    "1": "ExpressJet Airlines Inc."
                                },
                                {
                                    "0": "UA                                                                                                  ",
                                    "1": "United Air Lines Inc."
                                },
                                {
                                    "0": "US                                                                                                  ",
                                    "1": "US Airways Inc."
                                },
                                {
                                    "0": "VX                                                                                                  ",
                                    "1": "Virgin America"
                                },
                                {
                                    "0": "FL                                                                                                  ",
                                    "1": "AirTran Airways Corporation"
                                },
                                {
                                    "0": "OO                                                                                                  ",
                                    "1": "SkyWest Airlines Inc."
                                },
                                {
                                    "0": "F9                                                                                                  ",
                                    "1": "Frontier Airlines Inc."
                                },
                                {
                                    "0": "WN                                                                                                  ",
                                    "1": "Southwest Airlines Co."
                                },
                                {
                                    "0": "AS                                                                                                  ",
                                    "1": "Alaska Airlines Inc."
                                },
                                {
                                    "0": "NK                                                                                                  ",
                                    "1": "Spirit Air Lines"
                                }
                            ]
                        },
                        "text/html": "<table><tr><th>code</th><th>name</th></tr><tr><td>YV                                                                                                  </td><td>Mesa Airlines Inc.</td></tr><tr><td>AA                                                                                                  </td><td>American Airlines Inc .</td></tr><tr><td>B6                                                                                                  </td><td>JetBlue Airways</td></tr><tr><td>DL                                                                                                  </td><td>Delta Air Lines Inc.</td></tr><tr><td>HA                                                                                                  </td><td>Hawaiian Airlines Inc.</td></tr><tr><td>MQ                                                                                                  </td><td>American Eagle Airlines Inc.</td></tr><tr><td>EV                                                                                                  </td><td>ExpressJet Airlines Inc.</td></tr><tr><td>UA                                                                                                  </td><td>United Air Lines Inc.</td></tr><tr><td>US                                                                                                  </td><td>US Airways Inc.</td></tr><tr><td>VX                                                                                                  </td><td>Virgin America</td></tr><tr><td>FL                                                                                                  </td><td>AirTran Airways Corporation</td></tr><tr><td>OO                                                                                                  </td><td>SkyWest Airlines Inc.</td></tr><tr><td>F9                                                                                                  </td><td>Frontier Airlines Inc.</td></tr><tr><td>WN                                                                                                  </td><td>Southwest Airlines Co.</td></tr><tr><td>AS                                                                                                  </td><td>Alaska Airlines Inc.</td></tr><tr><td>NK                                                                                                  </td><td>Spirit Air Lines</td></tr></table>"
                    },
                    "metadata": {}
                }
            ],
            "execution_count": 3
        },
        {
            "cell_type": "markdown",
            "source": [
                "## Función ``REPLACE()`` <a id=\"parte2\"></a>\r\n",
                "\r\n",
                "Observemos que en"
            ],
            "metadata": {
                "azdata_cell_guid": "67de16ed-ee7f-4c0e-8b9b-1d1380143732"
            }
        },
        {
            "cell_type": "code",
            "source": [
                "SELECT TOP 5 * FROM prueba.dbo.airports WHERE airport_state LIKE 'fl%';"
            ],
            "metadata": {
                "azdata_cell_guid": "993c058a-0801-484e-ab2d-ea1cbc4ac22d"
            },
            "outputs": [
                {
                    "output_type": "display_data",
                    "data": {
                        "text/html": "(4 rows affected)"
                    },
                    "metadata": {}
                },
                {
                    "output_type": "display_data",
                    "data": {
                        "text/html": "Total execution time: 00:00:00.358"
                    },
                    "metadata": {}
                },
                {
                    "output_type": "execute_result",
                    "execution_count": 7,
                    "data": {
                        "application/vnd.dataresource+json": {
                            "schema": {
                                "fields": [
                                    {
                                        "name": "airport_code"
                                    },
                                    {
                                        "name": "airport_name"
                                    },
                                    {
                                        "name": "airport_city"
                                    },
                                    {
                                        "name": "airport_state"
                                    }
                                ]
                            },
                            "data": [
                                {
                                    "0": "MIA",
                                    "1": "Miami International",
                                    "2": "Miami",
                                    "3": "fl"
                                },
                                {
                                    "0": "MCO",
                                    "1": "Orlando International",
                                    "2": "Orlando",
                                    "3": "Florida"
                                },
                                {
                                    "0": "TPA",
                                    "1": "Tampa International",
                                    "2": "Tampa",
                                    "3": "Fl"
                                },
                                {
                                    "0": "FLL",
                                    "1": "Fort Lauderdale-Hollywood International",
                                    "2": "Fort Lauderdale",
                                    "3": "FL"
                                }
                            ]
                        },
                        "text/html": "<table><tr><th>airport_code</th><th>airport_name</th><th>airport_city</th><th>airport_state</th></tr><tr><td>MIA</td><td>Miami International</td><td>Miami</td><td>fl</td></tr><tr><td>MCO</td><td>Orlando International</td><td>Orlando</td><td>Florida</td></tr><tr><td>TPA</td><td>Tampa International</td><td>Tampa</td><td>Fl</td></tr><tr><td>FLL</td><td>Fort Lauderdale-Hollywood International</td><td>Fort Lauderdale</td><td>FL</td></tr></table>"
                    },
                    "metadata": {}
                }
            ],
            "execution_count": 7
        },
        {
            "cell_type": "markdown",
            "source": [
                "en la columna `airport_state` hay 3 formas de referirse al estado de Florida: fl, FL y Florida. Supongamos que deseamos unificar estas tres formas a una sola, en la cual es de nuestro interés considerar sólo el nombre de _Florida_. PAra ello utilizaremos la función `REPLACE():`\r\n",
                "\r\n",
                "```sql\r\n",
                "REPLACE(string_to_replace, ocurrences, string_replacement)\r\n",
                "```\r\n",
                "\r\n",
                "que reemplaza todas las apariciones de una cadena especificada con otra cadena. El reemplazo no distingue entre mayúsculas y minúsculas de forma predeterminada.\r\n",
                "\r\n",
                "Así, comenzamos por reemplazar la cadena ``FL`` por ``Florida``"
            ],
            "metadata": {
                "azdata_cell_guid": "12b06c53-a10a-4169-bcd9-9f605a74176a"
            }
        },
        {
            "cell_type": "code",
            "source": [
                "SELECT \r\n",
                "    airport_code, airport_name, airport_city,\r\n",
                "    REPLACE(airport_state, 'FL', 'Florida') AS airport_state\r\n",
                "FROM prueba.dbo.airports\r\n",
                "WHERE airport_state LIKE 'fl%';"
            ],
            "metadata": {
                "azdata_cell_guid": "54fe72a7-be4f-4ecb-9392-1084b32ec856"
            },
            "outputs": [
                {
                    "output_type": "display_data",
                    "data": {
                        "text/html": "(4 rows affected)"
                    },
                    "metadata": {}
                },
                {
                    "output_type": "display_data",
                    "data": {
                        "text/html": "Total execution time: 00:00:00.366"
                    },
                    "metadata": {}
                },
                {
                    "output_type": "execute_result",
                    "execution_count": 12,
                    "data": {
                        "application/vnd.dataresource+json": {
                            "schema": {
                                "fields": [
                                    {
                                        "name": "airport_code"
                                    },
                                    {
                                        "name": "airport_name"
                                    },
                                    {
                                        "name": "airport_city"
                                    },
                                    {
                                        "name": "airport_state"
                                    }
                                ]
                            },
                            "data": [
                                {
                                    "0": "MIA",
                                    "1": "Miami International",
                                    "2": "Miami",
                                    "3": "Florida"
                                },
                                {
                                    "0": "MCO",
                                    "1": "Orlando International",
                                    "2": "Orlando",
                                    "3": "Floridaorida"
                                },
                                {
                                    "0": "TPA",
                                    "1": "Tampa International",
                                    "2": "Tampa",
                                    "3": "Florida"
                                },
                                {
                                    "0": "FLL",
                                    "1": "Fort Lauderdale-Hollywood International",
                                    "2": "Fort Lauderdale",
                                    "3": "Florida"
                                }
                            ]
                        },
                        "text/html": "<table><tr><th>airport_code</th><th>airport_name</th><th>airport_city</th><th>airport_state</th></tr><tr><td>MIA</td><td>Miami International</td><td>Miami</td><td>Florida</td></tr><tr><td>MCO</td><td>Orlando International</td><td>Orlando</td><td>Floridaorida</td></tr><tr><td>TPA</td><td>Tampa International</td><td>Tampa</td><td>Florida</td></tr><tr><td>FLL</td><td>Fort Lauderdale-Hollywood International</td><td>Fort Lauderdale</td><td>Florida</td></tr></table>"
                    },
                    "metadata": {}
                }
            ],
            "execution_count": 12
        },
        {
            "cell_type": "markdown",
            "source": [
                "efectuando la misma consulta que antes, ya no obtenemos los nombre fl o FL para el estado de florida. Además, recordemos que no es necesario ejecutar la misma consulta para\r\n",
                "\r\n",
                "```sql\r\n",
                "REPLACE(airport_state, 'fl', 'Florida')\r\n",
                "```\r\n",
                "\r\n",
                "pues ``REPLACE()`` no distingue entre mayúsculas y minúsculas.\r\n",
                "Notamos también la existencia de un registro cuyo nombre asignado en ``airport_state`` es ``Floridaorida``, pues, en aquellas palabras ``Florida`` que teníamos antes de aplicar ``REPLACE()`` se sustituyó Fl por Florida, de modo que obtuvimos\r\n",
                "\r\n",
                "```\r\n",
                "Fl ---> Florida\r\n",
                "(Fl)orida ---> (Florida)orida\r\n",
                "```\r\n",
                "\r\n",
                "Para solucionar este problema podemos anidar la función ``REPLACE()`` como sigue"
            ],
            "metadata": {
                "azdata_cell_guid": "cc93447b-be58-48aa-b41b-e9e2bea185af"
            }
        },
        {
            "cell_type": "code",
            "source": [
                "SELECT \r\n",
                "    airport_code, airport_name, airport_city,\r\n",
                "    REPLACE(\r\n",
                "        REPLACE(airport_state, 'FL', 'Florida'),\r\n",
                "        'Floridaorida', 'Florida'\r\n",
                "    ) AS airport_state\r\n",
                "FROM prueba.dbo.airports\r\n",
                "WHERE airport_state LIKE 'fl%';"
            ],
            "metadata": {
                "azdata_cell_guid": "c58a0905-7998-4272-9324-127887a53865"
            },
            "outputs": [
                {
                    "output_type": "display_data",
                    "data": {
                        "text/html": "(4 rows affected)"
                    },
                    "metadata": {}
                },
                {
                    "output_type": "display_data",
                    "data": {
                        "text/html": "Total execution time: 00:00:00.337"
                    },
                    "metadata": {}
                },
                {
                    "output_type": "execute_result",
                    "execution_count": 13,
                    "data": {
                        "application/vnd.dataresource+json": {
                            "schema": {
                                "fields": [
                                    {
                                        "name": "airport_code"
                                    },
                                    {
                                        "name": "airport_name"
                                    },
                                    {
                                        "name": "airport_city"
                                    },
                                    {
                                        "name": "airport_state"
                                    }
                                ]
                            },
                            "data": [
                                {
                                    "0": "MIA",
                                    "1": "Miami International",
                                    "2": "Miami",
                                    "3": "Florida"
                                },
                                {
                                    "0": "MCO",
                                    "1": "Orlando International",
                                    "2": "Orlando",
                                    "3": "Florida"
                                },
                                {
                                    "0": "TPA",
                                    "1": "Tampa International",
                                    "2": "Tampa",
                                    "3": "Florida"
                                },
                                {
                                    "0": "FLL",
                                    "1": "Fort Lauderdale-Hollywood International",
                                    "2": "Fort Lauderdale",
                                    "3": "Florida"
                                }
                            ]
                        },
                        "text/html": "<table><tr><th>airport_code</th><th>airport_name</th><th>airport_city</th><th>airport_state</th></tr><tr><td>MIA</td><td>Miami International</td><td>Miami</td><td>Florida</td></tr><tr><td>MCO</td><td>Orlando International</td><td>Orlando</td><td>Florida</td></tr><tr><td>TPA</td><td>Tampa International</td><td>Tampa</td><td>Florida</td></tr><tr><td>FLL</td><td>Fort Lauderdale-Hollywood International</td><td>Fort Lauderdale</td><td>Florida</td></tr></table>"
                    },
                    "metadata": {}
                }
            ],
            "execution_count": 13
        },
        {
            "cell_type": "markdown",
            "source": [
                "donde ahora reemplazamos todas las cadenas ``Floridaorida`` por ``Florida``.\r\n",
                "\r\n",
                "Una alternativa al código anterior es mediante las sentencias ``CASE-WHEN``:"
            ],
            "metadata": {
                "azdata_cell_guid": "0c2bfb4f-9404-450e-afde-e79c634f7c85"
            }
        },
        {
            "cell_type": "code",
            "source": [
                "SELECT \r\n",
                "    airport_code, airport_name, airport_city,\r\n",
                "    CASE\r\n",
                "        WHEN airport_state <> 'Florida'\r\n",
                "        THEN REPLACE(airport_state, 'FL', 'Florida')\r\n",
                "        ELSE airport_state\r\n",
                "    END AS airport_state\r\n",
                "FROM prueba.dbo.airports\r\n",
                "WHERE airport_state LIKE 'fl%';"
            ],
            "metadata": {
                "azdata_cell_guid": "c6deb8b0-1669-43ff-95ba-df3d3cec820e"
            },
            "outputs": [
                {
                    "output_type": "display_data",
                    "data": {
                        "text/html": "(4 rows affected)"
                    },
                    "metadata": {}
                },
                {
                    "output_type": "display_data",
                    "data": {
                        "text/html": "Total execution time: 00:00:01.002"
                    },
                    "metadata": {}
                },
                {
                    "output_type": "execute_result",
                    "metadata": {},
                    "execution_count": 2,
                    "data": {
                        "application/vnd.dataresource+json": {
                            "schema": {
                                "fields": [
                                    {
                                        "name": "airport_code"
                                    },
                                    {
                                        "name": "airport_name"
                                    },
                                    {
                                        "name": "airport_city"
                                    },
                                    {
                                        "name": "airport_state"
                                    }
                                ]
                            },
                            "data": [
                                {
                                    "0": "MIA",
                                    "1": "Miami International",
                                    "2": "Miami",
                                    "3": "Florida"
                                },
                                {
                                    "0": "MCO",
                                    "1": "Orlando International",
                                    "2": "Orlando",
                                    "3": "Florida"
                                },
                                {
                                    "0": "TPA",
                                    "1": "Tampa International",
                                    "2": "Tampa",
                                    "3": "Florida"
                                },
                                {
                                    "0": "FLL",
                                    "1": "Fort Lauderdale-Hollywood International",
                                    "2": "Fort Lauderdale",
                                    "3": "Florida"
                                }
                            ]
                        },
                        "text/html": [
                            "<table>",
                            "<tr><th>airport_code</th><th>airport_name</th><th>airport_city</th><th>airport_state</th></tr>",
                            "<tr><td>MIA</td><td>Miami International</td><td>Miami</td><td>Florida</td></tr>",
                            "<tr><td>MCO</td><td>Orlando International</td><td>Orlando</td><td>Florida</td></tr>",
                            "<tr><td>TPA</td><td>Tampa International</td><td>Tampa</td><td>Florida</td></tr>",
                            "<tr><td>FLL</td><td>Fort Lauderdale-Hollywood International</td><td>Fort Lauderdale</td><td>Florida</td></tr>",
                            "</table>"
                        ]
                    }
                }
            ],
            "execution_count": 2
        },
        {
            "cell_type": "markdown",
            "source": [
                "donde **remplazamos FL por Florida** en todos aquellos registros que no tengan previamente la palabra Florida, y en aquellos registros que no tengan FL dejaremos tal cual su registro. Esto último nos sirve para dejar intactos los registros que ya tienen la palabra Florida.\r\n",
                "\r\n",
                "Otro ejemplo es si intentamos unificar la forma de referirnos a Florida como FL. Un primer intento:"
            ],
            "metadata": {
                "azdata_cell_guid": "b5ee3d86-344a-4626-9b24-02375d38c6b2"
            }
        },
        {
            "cell_type": "code",
            "source": [
                "SELECT \r\n",
                "    airport_code, airport_name, airport_city,\r\n",
                "    REPLACE(airport_state, 'Florida', 'FL')\r\n",
                "    AS airport_state\r\n",
                "FROM prueba.dbo.airports\r\n",
                "WHERE airport_state LIKE 'fl%';"
            ],
            "metadata": {
                "azdata_cell_guid": "c0c0a7fa-2f20-470d-a5c4-fdfac544c30a"
            },
            "outputs": [
                {
                    "output_type": "display_data",
                    "data": {
                        "text/html": "(4 rows affected)"
                    },
                    "metadata": {}
                },
                {
                    "output_type": "display_data",
                    "data": {
                        "text/html": "Total execution time: 00:00:00.412"
                    },
                    "metadata": {}
                },
                {
                    "output_type": "execute_result",
                    "metadata": {},
                    "execution_count": 3,
                    "data": {
                        "application/vnd.dataresource+json": {
                            "schema": {
                                "fields": [
                                    {
                                        "name": "airport_code"
                                    },
                                    {
                                        "name": "airport_name"
                                    },
                                    {
                                        "name": "airport_city"
                                    },
                                    {
                                        "name": "airport_state"
                                    }
                                ]
                            },
                            "data": [
                                {
                                    "0": "MIA",
                                    "1": "Miami International",
                                    "2": "Miami",
                                    "3": "fl"
                                },
                                {
                                    "0": "MCO",
                                    "1": "Orlando International",
                                    "2": "Orlando",
                                    "3": "FL"
                                },
                                {
                                    "0": "TPA",
                                    "1": "Tampa International",
                                    "2": "Tampa",
                                    "3": "Fl"
                                },
                                {
                                    "0": "FLL",
                                    "1": "Fort Lauderdale-Hollywood International",
                                    "2": "Fort Lauderdale",
                                    "3": "FL"
                                }
                            ]
                        },
                        "text/html": [
                            "<table>",
                            "<tr><th>airport_code</th><th>airport_name</th><th>airport_city</th><th>airport_state</th></tr>",
                            "<tr><td>MIA</td><td>Miami International</td><td>Miami</td><td>fl</td></tr>",
                            "<tr><td>MCO</td><td>Orlando International</td><td>Orlando</td><td>FL</td></tr>",
                            "<tr><td>TPA</td><td>Tampa International</td><td>Tampa</td><td>Fl</td></tr>",
                            "<tr><td>FLL</td><td>Fort Lauderdale-Hollywood International</td><td>Fort Lauderdale</td><td>FL</td></tr>",
                            "</table>"
                        ]
                    }
                }
            ],
            "execution_count": 3
        },
        {
            "cell_type": "markdown",
            "source": [
                "pero notamos que la forma fl continúa en los registros, es decir, lo anterior no soluciona del todo el problema. No obstante, nos podemos valer de la función ``UPPER()``: "
            ],
            "metadata": {
                "azdata_cell_guid": "cc8f31f1-d3e9-44dc-89bb-175ce9cc58d8"
            }
        },
        {
            "cell_type": "code",
            "source": [
                "SELECT \r\n",
                "    airport_code, airport_name, airport_city,\r\n",
                "    UPPER(\r\n",
                "        REPLACE(airport_state, 'Florida', 'FL')\r\n",
                "    ) AS airport_state\r\n",
                "FROM prueba.dbo.airports\r\n",
                "WHERE airport_state LIKE 'fl%';"
            ],
            "metadata": {
                "azdata_cell_guid": "ba082fbc-ae10-4edb-8f8d-9458e15942ac"
            },
            "outputs": [
                {
                    "output_type": "display_data",
                    "data": {
                        "text/html": "(4 rows affected)"
                    },
                    "metadata": {}
                },
                {
                    "output_type": "display_data",
                    "data": {
                        "text/html": "Total execution time: 00:00:02.048"
                    },
                    "metadata": {}
                },
                {
                    "output_type": "execute_result",
                    "metadata": {},
                    "execution_count": 4,
                    "data": {
                        "application/vnd.dataresource+json": {
                            "schema": {
                                "fields": [
                                    {
                                        "name": "airport_code"
                                    },
                                    {
                                        "name": "airport_name"
                                    },
                                    {
                                        "name": "airport_city"
                                    },
                                    {
                                        "name": "airport_state"
                                    }
                                ]
                            },
                            "data": [
                                {
                                    "0": "MIA",
                                    "1": "Miami International",
                                    "2": "Miami",
                                    "3": "FL"
                                },
                                {
                                    "0": "MCO",
                                    "1": "Orlando International",
                                    "2": "Orlando",
                                    "3": "FL"
                                },
                                {
                                    "0": "TPA",
                                    "1": "Tampa International",
                                    "2": "Tampa",
                                    "3": "FL"
                                },
                                {
                                    "0": "FLL",
                                    "1": "Fort Lauderdale-Hollywood International",
                                    "2": "Fort Lauderdale",
                                    "3": "FL"
                                }
                            ]
                        },
                        "text/html": [
                            "<table>",
                            "<tr><th>airport_code</th><th>airport_name</th><th>airport_city</th><th>airport_state</th></tr>",
                            "<tr><td>MIA</td><td>Miami International</td><td>Miami</td><td>FL</td></tr>",
                            "<tr><td>MCO</td><td>Orlando International</td><td>Orlando</td><td>FL</td></tr>",
                            "<tr><td>TPA</td><td>Tampa International</td><td>Tampa</td><td>FL</td></tr>",
                            "<tr><td>FLL</td><td>Fort Lauderdale-Hollywood International</td><td>Fort Lauderdale</td><td>FL</td></tr>",
                            "</table>"
                        ]
                    }
                }
            ],
            "execution_count": 4
        },
        {
            "cell_type": "markdown",
            "source": [
                "donde convertimos todos los fl a FL mediante la función ``UPPER()`` (la cual convierte cadenas de letras minúsculas a cadenas de  letras mayúsculas)."
            ],
            "metadata": {
                "azdata_cell_guid": "97573935-aea8-4cab-9395-458ade47a8bc"
            }
        }
    ]
}